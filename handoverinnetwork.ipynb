{
 "cells": [
  {
   "cell_type": "code",
   "execution_count": 127,
   "id": "e6681098-80c0-405d-b6fd-a64bc68d9b5d",
   "metadata": {},
   "outputs": [],
   "source": [
    "import numpy as np\n",
    "import pandas as pd \n",
    "import os\n",
    "import seaborn as sns"
   ]
  },
  {
   "cell_type": "code",
   "execution_count": 128,
   "id": "6faee82e-58ae-41c6-9026-a85baa3e37aa",
   "metadata": {},
   "outputs": [],
   "source": [
    "data_dir = \"/Users/stuti/Downloads/5G-production-dataset/Netflix/Driving/Season3-StrangerThings\"\n",
    "files = os.listdir(data_dir)\n",
    "\n",
    "dfs = []\n",
    "for file in files:\n",
    "    if file.endswith(\".csv\"):\n",
    "        file_path = os.path.join(data_dir, file)\n",
    "        df = pd.read_csv(file_path)\n",
    "        dfs.append(df)"
   ]
  },
  {
   "cell_type": "code",
   "execution_count": 129,
   "id": "380b7316-ea2d-40e4-bf96-911e85ed59d5",
   "metadata": {},
   "outputs": [],
   "source": [
    "data = pd.concat(dfs)"
   ]
  },
  {
   "cell_type": "code",
   "execution_count": 130,
   "id": "b34ceaae-fd64-4a01-a53b-3027646c47b5",
   "metadata": {},
   "outputs": [
    {
     "name": "stdout",
     "output_type": "stream",
     "text": [
      "(25212, 26)\n"
     ]
    }
   ],
   "source": [
    "print(data.shape)"
   ]
  },
  {
   "cell_type": "code",
   "execution_count": 131,
   "id": "6257c807-356e-456e-b672-6b79bbf317b9",
   "metadata": {},
   "outputs": [
    {
     "name": "stdout",
     "output_type": "stream",
     "text": [
      "             Timestamp  Longitude   Latitude  Speed Operatorname  CellID  \\\n",
      "0  2019.11.24_12.19.13  -8.388349  51.935630      0            B      12   \n",
      "1  2019.11.24_12.19.13  -8.388349  51.935630      0            B      12   \n",
      "2  2019.11.24_12.19.14  -8.388284  51.935597      0            B      12   \n",
      "3  2019.11.24_12.19.14  -8.388284  51.935597      0            B      12   \n",
      "4  2019.11.24_12.19.15  -8.388284  51.935597      0            B      12   \n",
      "\n",
      "  NetworkMode  RSRP RSRQ  SNR  ... PINGMIN PINGMAX  PINGSTDEV  PINGLOSS  \\\n",
      "0          5G  -102  -14  2.0  ...       -       -          -         -   \n",
      "1          5G  -102  -14  2.0  ...       -       -          -         -   \n",
      "2          5G  -102  -14  2.0  ...       -       -          -         -   \n",
      "3          5G  -100  -16  9.0  ...       -       -          -         -   \n",
      "4          5G  -100  -16  9.0  ...       -       -          -         -   \n",
      "\n",
      "  CELLHEX NODEHEX LACHEX RAWCELLID NRxRSRP NRxRSRQ  \n",
      "0       C    A81B   9CBA  11016972   -97.0   -16.0  \n",
      "1       C    A81B   9CBA  11016972   -97.0   -16.0  \n",
      "2       C    A81B   9CBA  11016972   -97.0   -16.0  \n",
      "3       C    A81B   9CBA  11016972   -98.0   -15.0  \n",
      "4       C    A81B   9CBA  11016972   -98.0   -15.0  \n",
      "\n",
      "[5 rows x 26 columns]\n"
     ]
    }
   ],
   "source": [
    "print(data.head())"
   ]
  },
  {
   "cell_type": "code",
   "execution_count": 132,
   "id": "19a05003-62a9-436d-856a-7573aa327ebe",
   "metadata": {},
   "outputs": [
    {
     "name": "stdout",
     "output_type": "stream",
     "text": [
      "<class 'pandas.core.frame.DataFrame'>\n",
      "Int64Index: 25212 entries, 0 to 3701\n",
      "Data columns (total 26 columns):\n",
      " #   Column        Non-Null Count  Dtype  \n",
      "---  ------        --------------  -----  \n",
      " 0   Timestamp     25212 non-null  object \n",
      " 1   Longitude     25212 non-null  float64\n",
      " 2   Latitude      25212 non-null  float64\n",
      " 3   Speed         25212 non-null  int64  \n",
      " 4   Operatorname  25212 non-null  object \n",
      " 5   CellID        25212 non-null  int64  \n",
      " 6   NetworkMode   25212 non-null  object \n",
      " 7   RSRP          25212 non-null  int64  \n",
      " 8   RSRQ          25212 non-null  object \n",
      " 9   SNR           25212 non-null  object \n",
      " 10  CQI           25212 non-null  object \n",
      " 11  RSSI          25212 non-null  object \n",
      " 12  DL_bitrate    25212 non-null  int64  \n",
      " 13  UL_bitrate    25212 non-null  int64  \n",
      " 14  State         25212 non-null  object \n",
      " 15  PINGAVG       25212 non-null  object \n",
      " 16  PINGMIN       25212 non-null  object \n",
      " 17  PINGMAX       25212 non-null  object \n",
      " 18  PINGSTDEV     25212 non-null  object \n",
      " 19  PINGLOSS      25212 non-null  object \n",
      " 20  CELLHEX       25212 non-null  object \n",
      " 21  NODEHEX       25212 non-null  object \n",
      " 22  LACHEX        25212 non-null  object \n",
      " 23  RAWCELLID     25212 non-null  int64  \n",
      " 24  NRxRSRP       25212 non-null  object \n",
      " 25  NRxRSRQ       25212 non-null  object \n",
      "dtypes: float64(2), int64(6), object(18)\n",
      "memory usage: 5.2+ MB\n",
      "None\n"
     ]
    }
   ],
   "source": [
    "print(data.info())"
   ]
  },
  {
   "cell_type": "code",
   "execution_count": 133,
   "id": "5bbb4d38-9504-4019-befb-c7e574aa91ad",
   "metadata": {},
   "outputs": [
    {
     "data": {
      "text/plain": [
       "Timestamp       False\n",
       "Longitude       False\n",
       "Latitude        False\n",
       "Speed           False\n",
       "Operatorname    False\n",
       "CellID          False\n",
       "NetworkMode     False\n",
       "RSRP            False\n",
       "RSRQ            False\n",
       "SNR             False\n",
       "CQI             False\n",
       "RSSI            False\n",
       "DL_bitrate      False\n",
       "UL_bitrate      False\n",
       "State           False\n",
       "PINGAVG         False\n",
       "PINGMIN         False\n",
       "PINGMAX         False\n",
       "PINGSTDEV       False\n",
       "PINGLOSS        False\n",
       "CELLHEX         False\n",
       "NODEHEX         False\n",
       "LACHEX          False\n",
       "RAWCELLID       False\n",
       "NRxRSRP         False\n",
       "NRxRSRQ         False\n",
       "dtype: bool"
      ]
     },
     "execution_count": 133,
     "metadata": {},
     "output_type": "execute_result"
    }
   ],
   "source": [
    "data.isnull().any()"
   ]
  },
  {
   "cell_type": "code",
   "execution_count": 134,
   "id": "9c79b413-a240-4127-8657-aab74588f2fb",
   "metadata": {},
   "outputs": [
    {
     "name": "stdout",
     "output_type": "stream",
     "text": [
      "Timestamp       0\n",
      "Longitude       0\n",
      "Latitude        0\n",
      "Speed           0\n",
      "Operatorname    0\n",
      "CellID          0\n",
      "NetworkMode     0\n",
      "RSRP            0\n",
      "RSRQ            0\n",
      "SNR             0\n",
      "CQI             0\n",
      "RSSI            0\n",
      "DL_bitrate      0\n",
      "UL_bitrate      0\n",
      "State           0\n",
      "PINGAVG         0\n",
      "PINGMIN         0\n",
      "PINGMAX         0\n",
      "PINGSTDEV       0\n",
      "PINGLOSS        0\n",
      "CELLHEX         0\n",
      "NODEHEX         0\n",
      "LACHEX          0\n",
      "RAWCELLID       0\n",
      "NRxRSRP         0\n",
      "NRxRSRQ         0\n",
      "dtype: int64\n"
     ]
    }
   ],
   "source": [
    "print(data.isnull().sum())"
   ]
  },
  {
   "cell_type": "code",
   "execution_count": 135,
   "id": "001d88d4-66a8-4195-96e0-e23873065add",
   "metadata": {},
   "outputs": [
    {
     "name": "stdout",
     "output_type": "stream",
     "text": [
      "5G       19433\n",
      "LTE       4892\n",
      "HSPA+      748\n",
      "UMTS        96\n",
      "HSUPA       43\n",
      "Name: NetworkMode, dtype: int64\n"
     ]
    }
   ],
   "source": [
    "print(data[\"NetworkMode\"].value_counts())"
   ]
  },
  {
   "cell_type": "code",
   "execution_count": 136,
   "id": "71961ee0-d606-449c-a128-f93e87dac8a3",
   "metadata": {},
   "outputs": [
    {
     "name": "stdout",
     "output_type": "stream",
     "text": [
      "25212\n"
     ]
    }
   ],
   "source": [
    "print((data[\"NetworkMode\"].value_counts()).sum())"
   ]
  },
  {
   "cell_type": "code",
   "execution_count": 137,
   "id": "8e85626b-a279-4f53-ac1c-39c860118fe8",
   "metadata": {},
   "outputs": [
    {
     "name": "stdout",
     "output_type": "stream",
     "text": [
      "A81B     6330\n",
      "A4DF     3673\n",
      "A4EF     2273\n",
      "432AE    2260\n",
      "A9AA     1594\n",
      "A99B     1219\n",
      "A4E8     1006\n",
      "A701      876\n",
      "C         738\n",
      "A992      656\n",
      "A99D      501\n",
      "A99E      483\n",
      "AAB4      400\n",
      "53BEA     345\n",
      "76C6C     308\n",
      "43696     282\n",
      "A710      251\n",
      "A707      248\n",
      "3D160     215\n",
      "5A5BC     200\n",
      "6157E     183\n",
      "A9C9      148\n",
      "12D       144\n",
      "534E2     128\n",
      "542F2     112\n",
      "4324A     100\n",
      "A995       82\n",
      "438EE      74\n",
      "AAB6       69\n",
      "5A6F2      68\n",
      "5A68E      58\n",
      "AC60       52\n",
      "613EE      31\n",
      "613E4      31\n",
      "A990       18\n",
      "5A81E      16\n",
      "540FE       7\n",
      "12D4F       6\n",
      "C10         5\n",
      "CDF         3\n",
      "A9          3\n",
      "CDD         2\n",
      "C11         2\n",
      "CD3         2\n",
      "CDE         2\n",
      "C21         2\n",
      "12D29       2\n",
      "12D50       1\n",
      "CCA         1\n",
      "CCB         1\n",
      "A7          1\n",
      "Name: NODEHEX, dtype: int64\n"
     ]
    }
   ],
   "source": [
    "nodehex = data[\"NODEHEX\"].value_counts()\n",
    "print(nodehex)"
   ]
  },
  {
   "cell_type": "code",
   "execution_count": 138,
   "id": "8aa358ab-1142-481a-ac44-fc3819feb2e9",
   "metadata": {},
   "outputs": [
    {
     "name": "stdout",
     "output_type": "stream",
     "text": [
      "25212\n"
     ]
    }
   ],
   "source": [
    "print(nodehex.sum())"
   ]
  },
  {
   "cell_type": "code",
   "execution_count": 139,
   "id": "faed0510-ba9e-4f36-9718-df3aaf69ed44",
   "metadata": {},
   "outputs": [],
   "source": [
    "keep = nodehex[nodehex>1000].index.tolist()\n",
    "data = data[data[\"NODEHEX\"].isin(keep)]"
   ]
  },
  {
   "cell_type": "code",
   "execution_count": 140,
   "id": "6bf0c9de-16d2-4ca3-be7f-c31ca6eab242",
   "metadata": {},
   "outputs": [
    {
     "name": "stdout",
     "output_type": "stream",
     "text": [
      "A81B     6330\n",
      "A4DF     3673\n",
      "A4EF     2273\n",
      "432AE    2260\n",
      "A9AA     1594\n",
      "A99B     1219\n",
      "A4E8     1006\n",
      "Name: NODEHEX, dtype: int64\n"
     ]
    }
   ],
   "source": [
    "nodehex = data[\"NODEHEX\"].value_counts()\n",
    "print(nodehex)"
   ]
  },
  {
   "cell_type": "code",
   "execution_count": 141,
   "id": "ae1c80e0-ef3b-48c9-9c84-4a1c18662f2d",
   "metadata": {},
   "outputs": [
    {
     "name": "stdout",
     "output_type": "stream",
     "text": [
      "7\n"
     ]
    }
   ],
   "source": [
    "print(len(nodehex))"
   ]
  },
  {
   "cell_type": "code",
   "execution_count": 142,
   "id": "e5db484a-f8fa-44ca-a35f-e7237281a1fc",
   "metadata": {},
   "outputs": [
    {
     "name": "stdout",
     "output_type": "stream",
     "text": [
      "5G     15702\n",
      "LTE     2653\n",
      "Name: NetworkMode, dtype: int64\n"
     ]
    }
   ],
   "source": [
    "print(data[\"NetworkMode\"].value_counts())"
   ]
  },
  {
   "cell_type": "code",
   "execution_count": 123,
   "id": "ab86318a-f2fc-41e2-ac45-d60b55085d7f",
   "metadata": {},
   "outputs": [
    {
     "name": "stdout",
     "output_type": "stream",
     "text": [
      "<class 'pandas.core.frame.DataFrame'>\n"
     ]
    }
   ],
   "source": [
    "print(type(data))"
   ]
  },
  {
   "cell_type": "code",
   "execution_count": 124,
   "id": "ce2a15d8-b2c5-4866-b3b5-6b84fbfd440c",
   "metadata": {},
   "outputs": [],
   "source": [
    "desktop = os.path.expanduser(\"/Users/stuti/Desktop\")  # get the path to the desktop\n",
    "file_path = os.path.join(desktop, \"modified_dataset.csv\")  # combine the desktop path and file name\n",
    "data.to_csv(file_path, index=False)"
   ]
  },
  {
   "cell_type": "code",
   "execution_count": 125,
   "id": "8f36c202-2a24-4d2c-9b7f-282f6738151d",
   "metadata": {},
   "outputs": [
    {
     "data": {
      "text/plain": [
       "<AxesSubplot:xlabel='count', ylabel='NetworkMode'>"
      ]
     },
     "execution_count": 125,
     "metadata": {},
     "output_type": "execute_result"
    },
    {
     "data": {
      "image/png": "[encoded data removed]",
      "text/plain": [
       "<Figure size 432x288 with 1 Axes>"
      ]
     },
     "metadata": {
      "needs_background": "light"
     },
     "output_type": "display_data"
    }
   ],
   "source": [
    "sns.countplot(y=df.iloc[:,6],data=data)"
   ]
  },
  {
   "cell_type": "code",
   "execution_count": 104,
   "id": "b6f6c96a-977e-47a7-9f17-e0d0cac616d6",
   "metadata": {},
   "outputs": [
    {
     "data": {
      "text/plain": [
       "<AxesSubplot:>"
      ]
     },
     "execution_count": 104,
     "metadata": {},
     "output_type": "execute_result"
    },
    {
     "data": {
      "image/png": "[encoded data removed]",
      "text/plain": [
       "<Figure size 432x288 with 2 Axes>"
      ]
     },
     "metadata": {
      "needs_background": "light"
     },
     "output_type": "display_data"
    }
   ],
   "source": [
    "sns.heatmap(df.iloc[:,:6].corr(),annot=True)"
   ]
  },
  {
   "cell_type": "code",
   "execution_count": 105,
   "id": "d8d55248-35cd-4296-a03c-ce08f3f41d88",
   "metadata": {},
   "outputs": [
    {
     "name": "stdout",
     "output_type": "stream",
     "text": [
      "18355\n"
     ]
    }
   ],
   "source": [
    "print((data[\"NetworkMode\"].value_counts()).sum())"
   ]
  },
  {
   "cell_type": "code",
   "execution_count": 107,
   "id": "95619124-9438-485a-b51f-1bf6965d1b19",
   "metadata": {},
   "outputs": [],
   "source": [
    "data = data.drop_duplicates()"
   ]
  },
  {
   "cell_type": "code",
   "execution_count": 59,
   "id": "4c65560c-1a26-49c4-9eb6-950a767308ae",
   "metadata": {},
   "outputs": [
    {
     "name": "stdout",
     "output_type": "stream",
     "text": [
      "9CBA    18355\n",
      "Name: LACHEX, dtype: int64\n"
     ]
    }
   ],
   "source": [
    "print(data[\"LACHEX\"].value_counts())"
   ]
  },
  {
   "cell_type": "code",
   "execution_count": 60,
   "id": "62bdf3b4-217c-42eb-8585-e20fe23fe1b4",
   "metadata": {},
   "outputs": [],
   "source": [
    "data = data.drop(columns=[\"PINGAVG\", \"PINGMIN\", \"PINGMAX\", \"PINGSTDEV\", \"PINGLOSS\", \"Timestamp\", \"Operatorname\", \"CELLHEX\", \"NRxRSRP\", \"NRxRSRQ\", \"LACHEX\"])"
   ]
  },
  {
   "cell_type": "code",
   "execution_count": 61,
   "id": "dc425c2c-9b4a-496b-bf38-2b2722c11106",
   "metadata": {},
   "outputs": [
    {
     "name": "stdout",
     "output_type": "stream",
     "text": [
      "<class 'pandas.core.frame.DataFrame'>\n",
      "Int64Index: 18355 entries, 0 to 3701\n",
      "Data columns (total 15 columns):\n",
      " #   Column       Non-Null Count  Dtype  \n",
      "---  ------       --------------  -----  \n",
      " 0   Longitude    18355 non-null  float64\n",
      " 1   Latitude     18355 non-null  float64\n",
      " 2   Speed        18355 non-null  int64  \n",
      " 3   CellID       18355 non-null  int64  \n",
      " 4   NetworkMode  18355 non-null  object \n",
      " 5   RSRP         18355 non-null  int64  \n",
      " 6   RSRQ         18355 non-null  object \n",
      " 7   SNR          18355 non-null  object \n",
      " 8   CQI          18355 non-null  object \n",
      " 9   RSSI         18355 non-null  object \n",
      " 10  DL_bitrate   18355 non-null  int64  \n",
      " 11  UL_bitrate   18355 non-null  int64  \n",
      " 12  State        18355 non-null  object \n",
      " 13  NODEHEX      18355 non-null  object \n",
      " 14  RAWCELLID    18355 non-null  int64  \n",
      "dtypes: float64(2), int64(6), object(7)\n",
      "memory usage: 2.2+ MB\n"
     ]
    }
   ],
   "source": [
    "data.info()"
   ]
  },
  {
   "cell_type": "code",
   "execution_count": 63,
   "id": "27819e94-3d7b-4c04-a33c-5d41d5ca5c8e",
   "metadata": {},
   "outputs": [],
   "source": [
    "missingval = data.columns[data.isna().any()].tolist()\n",
    "\n",
    "for col in missingval:\n",
    "    mean = data[col].mean()\n",
    "    data[col].fillna(mean, inplace=True)"
   ]
  },
  {
   "cell_type": "code",
   "execution_count": 227,
   "id": "e3c20330-3551-4dc1-8777-1bacf2003153",
   "metadata": {},
   "outputs": [],
   "source": [
    "colwdash = ['RSSI']  # replace with actual column names\n",
    "\n",
    "# Convert columns to numeric data type\n",
    "data[colwdash] = data[colwdash].apply(pd.to_numeric, errors='coerce')\n",
    "data = data.fillna(data.mean())"
   ]
  },
  {
   "cell_type": "code",
   "execution_count": 228,
   "id": "90f8a677-e28b-4a55-b08a-0ac1fe071342",
   "metadata": {},
   "outputs": [
    {
     "data": {
      "text/html": [
       "<div>\n",
       "<style scoped>\n",
       "    .dataframe tbody tr th:only-of-type {\n",
       "        vertical-align: middle;\n",
       "    }\n",
       "\n",
       "    .dataframe tbody tr th {\n",
       "        vertical-align: top;\n",
       "    }\n",
       "\n",
       "    .dataframe thead th {\n",
       "        text-align: right;\n",
       "    }\n",
       "</style>\n",
       "<table border=\"1\" class=\"dataframe\">\n",
       "  <thead>\n",
       "    <tr style=\"text-align: right;\">\n",
       "      <th></th>\n",
       "      <th>Longitude</th>\n",
       "      <th>Latitude</th>\n",
       "      <th>Speed</th>\n",
       "      <th>CellID</th>\n",
       "      <th>NetworkMode</th>\n",
       "      <th>RSRP</th>\n",
       "      <th>RSRQ</th>\n",
       "      <th>SNR</th>\n",
       "      <th>CQI</th>\n",
       "      <th>RSSI</th>\n",
       "      <th>DL_bitrate</th>\n",
       "      <th>UL_bitrate</th>\n",
       "      <th>State</th>\n",
       "      <th>NODEHEX</th>\n",
       "      <th>RAWCELLID</th>\n",
       "    </tr>\n",
       "  </thead>\n",
       "  <tbody>\n",
       "    <tr>\n",
       "      <th>0</th>\n",
       "      <td>-8.388349</td>\n",
       "      <td>51.935630</td>\n",
       "      <td>0</td>\n",
       "      <td>12</td>\n",
       "      <td>5G</td>\n",
       "      <td>-102</td>\n",
       "      <td>-14</td>\n",
       "      <td>2.0</td>\n",
       "      <td>4</td>\n",
       "      <td>-74.063739</td>\n",
       "      <td>0</td>\n",
       "      <td>0</td>\n",
       "      <td>I</td>\n",
       "      <td>A81B</td>\n",
       "      <td>11016972</td>\n",
       "    </tr>\n",
       "    <tr>\n",
       "      <th>1</th>\n",
       "      <td>-8.388349</td>\n",
       "      <td>51.935630</td>\n",
       "      <td>0</td>\n",
       "      <td>12</td>\n",
       "      <td>5G</td>\n",
       "      <td>-102</td>\n",
       "      <td>-14</td>\n",
       "      <td>2.0</td>\n",
       "      <td>4</td>\n",
       "      <td>-74.063739</td>\n",
       "      <td>35</td>\n",
       "      <td>10</td>\n",
       "      <td>D</td>\n",
       "      <td>A81B</td>\n",
       "      <td>11016972</td>\n",
       "    </tr>\n",
       "    <tr>\n",
       "      <th>2</th>\n",
       "      <td>-8.388284</td>\n",
       "      <td>51.935597</td>\n",
       "      <td>0</td>\n",
       "      <td>12</td>\n",
       "      <td>5G</td>\n",
       "      <td>-102</td>\n",
       "      <td>-14</td>\n",
       "      <td>2.0</td>\n",
       "      <td>4</td>\n",
       "      <td>-74.063739</td>\n",
       "      <td>35</td>\n",
       "      <td>10</td>\n",
       "      <td>D</td>\n",
       "      <td>A81B</td>\n",
       "      <td>11016972</td>\n",
       "    </tr>\n",
       "    <tr>\n",
       "      <th>3</th>\n",
       "      <td>-8.388284</td>\n",
       "      <td>51.935597</td>\n",
       "      <td>0</td>\n",
       "      <td>12</td>\n",
       "      <td>5G</td>\n",
       "      <td>-100</td>\n",
       "      <td>-16</td>\n",
       "      <td>9.0</td>\n",
       "      <td>4</td>\n",
       "      <td>-74.063739</td>\n",
       "      <td>0</td>\n",
       "      <td>0</td>\n",
       "      <td>D</td>\n",
       "      <td>A81B</td>\n",
       "      <td>11016972</td>\n",
       "    </tr>\n",
       "    <tr>\n",
       "      <th>4</th>\n",
       "      <td>-8.388284</td>\n",
       "      <td>51.935597</td>\n",
       "      <td>0</td>\n",
       "      <td>12</td>\n",
       "      <td>5G</td>\n",
       "      <td>-100</td>\n",
       "      <td>-16</td>\n",
       "      <td>9.0</td>\n",
       "      <td>4</td>\n",
       "      <td>-74.063739</td>\n",
       "      <td>215</td>\n",
       "      <td>66</td>\n",
       "      <td>D</td>\n",
       "      <td>A81B</td>\n",
       "      <td>11016972</td>\n",
       "    </tr>\n",
       "  </tbody>\n",
       "</table>\n",
       "</div>"
      ],
      "text/plain": [
       "   Longitude   Latitude  Speed  CellID NetworkMode  RSRP RSRQ  SNR CQI  \\\n",
       "0  -8.388349  51.935630      0      12          5G  -102  -14  2.0   4   \n",
       "1  -8.388349  51.935630      0      12          5G  -102  -14  2.0   4   \n",
       "2  -8.388284  51.935597      0      12          5G  -102  -14  2.0   4   \n",
       "3  -8.388284  51.935597      0      12          5G  -100  -16  9.0   4   \n",
       "4  -8.388284  51.935597      0      12          5G  -100  -16  9.0   4   \n",
       "\n",
       "        RSSI  DL_bitrate  UL_bitrate State NODEHEX  RAWCELLID  \n",
       "0 -74.063739           0           0     I    A81B   11016972  \n",
       "1 -74.063739          35          10     D    A81B   11016972  \n",
       "2 -74.063739          35          10     D    A81B   11016972  \n",
       "3 -74.063739           0           0     D    A81B   11016972  \n",
       "4 -74.063739         215          66     D    A81B   11016972  "
      ]
     },
     "execution_count": 228,
     "metadata": {},
     "output_type": "execute_result"
    }
   ],
   "source": [
    "data.head()"
   ]
  },
  {
   "cell_type": "code",
   "execution_count": 229,
   "id": "af6253e5-5f69-4303-8c57-884aba6d338f",
   "metadata": {},
   "outputs": [
    {
     "name": "stdout",
     "output_type": "stream",
     "text": [
      "<class 'pandas.core.frame.DataFrame'>\n",
      "Int64Index: 18355 entries, 0 to 3701\n",
      "Data columns (total 15 columns):\n",
      " #   Column       Non-Null Count  Dtype  \n",
      "---  ------       --------------  -----  \n",
      " 0   Longitude    18355 non-null  float64\n",
      " 1   Latitude     18355 non-null  float64\n",
      " 2   Speed        18355 non-null  int64  \n",
      " 3   CellID       18355 non-null  int64  \n",
      " 4   NetworkMode  18355 non-null  object \n",
      " 5   RSRP         18355 non-null  int64  \n",
      " 6   RSRQ         18355 non-null  object \n",
      " 7   SNR          18355 non-null  object \n",
      " 8   CQI          18355 non-null  object \n",
      " 9   RSSI         18355 non-null  float64\n",
      " 10  DL_bitrate   18355 non-null  int64  \n",
      " 11  UL_bitrate   18355 non-null  int64  \n",
      " 12  State        18355 non-null  object \n",
      " 13  NODEHEX      18355 non-null  object \n",
      " 14  RAWCELLID    18355 non-null  int64  \n",
      "dtypes: float64(3), int64(6), object(6)\n",
      "memory usage: 2.2+ MB\n"
     ]
    }
   ],
   "source": [
    "data.info()"
   ]
  },
  {
   "cell_type": "code",
   "execution_count": 230,
   "id": "63e8e305-5e43-4d46-90a6-4a711270e4c4",
   "metadata": {},
   "outputs": [
    {
     "name": "stdout",
     "output_type": "stream",
     "text": [
      "I    10487\n",
      "D     7868\n",
      "Name: State, dtype: int64\n"
     ]
    }
   ],
   "source": [
    "print(data[\"State\"].value_counts())"
   ]
  },
  {
   "cell_type": "code",
   "execution_count": 231,
   "id": "b91fd26a-82ce-446f-9be8-55b2bf39d338",
   "metadata": {},
   "outputs": [],
   "source": [
    "from sklearn.preprocessing import LabelEncoder\n",
    "le = LabelEncoder()\n",
    "data['State'] = le.fit_transform(data['State'])"
   ]
  },
  {
   "cell_type": "code",
   "execution_count": 232,
   "id": "1ec76486-a8db-4551-a257-c3254c860934",
   "metadata": {},
   "outputs": [
    {
     "name": "stdout",
     "output_type": "stream",
     "text": [
      "1    10487\n",
      "0     7868\n",
      "Name: State, dtype: int64\n"
     ]
    }
   ],
   "source": [
    "print(data[\"State\"].value_counts())"
   ]
  },
  {
   "cell_type": "code",
   "execution_count": 233,
   "id": "9ec5c9d7-6d49-429c-820e-77791c7263bb",
   "metadata": {},
   "outputs": [],
   "source": [
    "data = pd.get_dummies(data, columns=[\"NODEHEX\"])"
   ]
  },
  {
   "cell_type": "code",
   "execution_count": 235,
   "id": "a62445c1-31b8-4158-89ea-34d332424145",
   "metadata": {},
   "outputs": [
    {
     "data": {
      "text/plain": [
       "Longitude  Latitude   Speed  CellID  NetworkMode  RSRP  RSRQ  SNR   CQI  RSSI        DL_bitrate  UL_bitrate  State  RAWCELLID  NODEHEX_432AE  NODEHEX_A4DF  NODEHEX_A4E8  NODEHEX_A4EF  NODEHEX_A81B  NODEHEX_A99B  NODEHEX_A9AA\n",
       "-8.448522  51.916954  39     2       LTE          -96   -13   0.0   7    -78.000000  0           0           1      70430210   1              0             0             0             0             0             0               5\n",
       "-8.484686  51.897246  33     11      5G           -95   -20   -8.0  6    -74.063739  0           0           1      11119115   0              0             0             0             0             0             1               5\n",
       "-8.394723  51.886283  1      11      5G           -100  -11   6.0   12   -83.000000  0           0           1      10805003   0              1             0             0             0             0             0               4\n",
       "                                                        -12   4.0   13   -83.000000  0           0           1      10805003   0              1             0             0             0             0             0               4\n",
       "-8.479901  51.897440  11     11      5G           -83   -13   3.0   14   -74.063739  0           0           1      11119115   0              0             0             0             0             0             1               4\n",
       "                                                                                                                                                                                                                                   ..\n",
       "-8.426810  51.918395  43     2       LTE          -107  -13   -7.0  5    -92.000000  160         8           0      70430210   1              0             0             0             0             0             0               1\n",
       "                                                  -106  -10   -3.0  4    -89.000000  0           0           1      70430210   1              0             0             0             0             0             0               1\n",
       "                                                                    6    -94.000000  0           0           1      70430210   1              0             0             0             0             0             0               1\n",
       "-8.426418  51.918357  31     2       LTE          -109  -11   -3.0  6    -89.000000  0           0           1      70430210   1              0             0             0             0             0             0               1\n",
       "-8.374050  51.930394  90     12      5G           -86   -11   12.0  14   -65.000000  9           9           0      11016972   0              0             0             0             1             0             0               1\n",
       "Length: 16028, dtype: int64"
      ]
     },
     "execution_count": 235,
     "metadata": {},
     "output_type": "execute_result"
    }
   ],
   "source": [
    "data.value_counts()"
   ]
  },
  {
   "cell_type": "code",
   "execution_count": 236,
   "id": "63afce7c-7d86-4456-ad68-6cd44598e0b9",
   "metadata": {},
   "outputs": [],
   "source": [
    "#data = pd.get_dummies(data, columns=[\"NetworkMode\"])"
   ]
  },
  {
   "cell_type": "code",
   "execution_count": 237,
   "id": "f7ba744e-b97c-4920-9f51-794540d3320f",
   "metadata": {},
   "outputs": [],
   "source": [
    "#data['NODEHEX'] = data['NODEHEX'].astype(float)\n",
    "#data['RSRQ'] = data['RSRQ'].astype(float)\n",
    "#data['SNR'] = data['SNR'].astype(float)\n",
    "#data['CQI'] = data['CQI'].astype(float)"
   ]
  },
  {
   "cell_type": "code",
   "execution_count": 238,
   "id": "822e4345-dfff-41a7-9aec-5478a8b62c0a",
   "metadata": {},
   "outputs": [],
   "source": [
    "#data['NODEHEX'] = pd.to_numeric(data['NODEHEX'], errors='coerce')"
   ]
  },
  {
   "cell_type": "code",
   "execution_count": 239,
   "id": "d94bb814-8207-463f-ac59-cab1ea0f8baa",
   "metadata": {},
   "outputs": [
    {
     "name": "stdout",
     "output_type": "stream",
     "text": [
      "<class 'pandas.core.frame.DataFrame'>\n",
      "Int64Index: 18355 entries, 0 to 3701\n",
      "Data columns (total 21 columns):\n",
      " #   Column         Non-Null Count  Dtype  \n",
      "---  ------         --------------  -----  \n",
      " 0   Longitude      18355 non-null  float64\n",
      " 1   Latitude       18355 non-null  float64\n",
      " 2   Speed          18355 non-null  int64  \n",
      " 3   CellID         18355 non-null  int64  \n",
      " 4   NetworkMode    18355 non-null  object \n",
      " 5   RSRP           18355 non-null  int64  \n",
      " 6   RSRQ           18355 non-null  object \n",
      " 7   SNR            18355 non-null  object \n",
      " 8   CQI            18355 non-null  object \n",
      " 9   RSSI           18355 non-null  float64\n",
      " 10  DL_bitrate     18355 non-null  int64  \n",
      " 11  UL_bitrate     18355 non-null  int64  \n",
      " 12  State          18355 non-null  int64  \n",
      " 13  RAWCELLID      18355 non-null  int64  \n",
      " 14  NODEHEX_432AE  18355 non-null  uint8  \n",
      " 15  NODEHEX_A4DF   18355 non-null  uint8  \n",
      " 16  NODEHEX_A4E8   18355 non-null  uint8  \n",
      " 17  NODEHEX_A4EF   18355 non-null  uint8  \n",
      " 18  NODEHEX_A81B   18355 non-null  uint8  \n",
      " 19  NODEHEX_A99B   18355 non-null  uint8  \n",
      " 20  NODEHEX_A9AA   18355 non-null  uint8  \n",
      "dtypes: float64(3), int64(7), object(4), uint8(7)\n",
      "memory usage: 2.2+ MB\n"
     ]
    }
   ],
   "source": [
    "data.info()"
   ]
  },
  {
   "cell_type": "code",
   "execution_count": 240,
   "id": "9b137385-23df-4533-9171-52496af49e91",
   "metadata": {},
   "outputs": [],
   "source": [
    "#value = 'I'\n",
    "#try:\n",
    "#    float_value = float(value)\n",
    "#except ValueError:\n",
    "#    # Handle non-numeric values appropriately\n",
    "#    float_value = None\n",
    "#print(float_value)"
   ]
  },
  {
   "cell_type": "code",
   "execution_count": 241,
   "id": "121a845a-fec2-4451-beb7-44a4fdb100b0",
   "metadata": {},
   "outputs": [],
   "source": [
    "from sklearn.model_selection import train_test_split\n",
    "from sklearn.ensemble import RandomForestClassifier\n",
    "from sklearn.metrics import accuracy_score, precision_score, recall_score, f1_score\n",
    "X = data.drop(\"NetworkMode\", axis=1)\n",
    "y = data[\"NetworkMode\"]\n",
    "\n",
    "X_train, X_test, y_train, y_test = train_test_split(X, y, test_size=0.2, stratify=y)"
   ]
  },
  {
   "cell_type": "code",
   "execution_count": 242,
   "id": "63d4f6eb-a7fb-4f13-8eaf-fc304bbd09b9",
   "metadata": {},
   "outputs": [],
   "source": [
    "from sklearn.preprocessing import StandardScaler\n",
    "scaler = StandardScaler()\n",
    "X_scaled = scaler.fit_transform(X)"
   ]
  },
  {
   "cell_type": "code",
   "execution_count": 243,
   "id": "1265a30d-555f-4aac-9f8c-f5117169020f",
   "metadata": {},
   "outputs": [
    {
     "name": "stdout",
     "output_type": "stream",
     "text": [
      "5G     15702\n",
      "LTE     2653\n",
      "Name: NetworkMode, dtype: int64\n"
     ]
    }
   ],
   "source": [
    "print(data[\"NetworkMode\"].value_counts())"
   ]
  },
  {
   "cell_type": "code",
   "execution_count": 244,
   "id": "eda96218-6ac3-40d3-8272-dc93d030c2ff",
   "metadata": {},
   "outputs": [
    {
     "data": {
      "text/html": [
       "<style>#sk-container-id-2 {color: black;background-color: white;}#sk-container-id-2 pre{padding: 0;}#sk-container-id-2 div.sk-toggleable {background-color: white;}#sk-container-id-2 label.sk-toggleable__label {cursor: pointer;display: block;width: 100%;margin-bottom: 0;padding: 0.3em;box-sizing: border-box;text-align: center;}#sk-container-id-2 label.sk-toggleable__label-arrow:before {content: \"▸\";float: left;margin-right: 0.25em;color: #696969;}#sk-container-id-2 label.sk-toggleable__label-arrow:hover:before {color: black;}#sk-container-id-2 div.sk-estimator:hover label.sk-toggleable__label-arrow:before {color: black;}#sk-container-id-2 div.sk-toggleable__content {max-height: 0;max-width: 0;overflow: hidden;text-align: left;background-color: #f0f8ff;}#sk-container-id-2 div.sk-toggleable__content pre {margin: 0.2em;color: black;border-radius: 0.25em;background-color: #f0f8ff;}#sk-container-id-2 input.sk-toggleable__control:checked~div.sk-toggleable__content {max-height: 200px;max-width: 100%;overflow: auto;}#sk-container-id-2 input.sk-toggleable__control:checked~label.sk-toggleable__label-arrow:before {content: \"▾\";}#sk-container-id-2 div.sk-estimator input.sk-toggleable__control:checked~label.sk-toggleable__label {background-color: #d4ebff;}#sk-container-id-2 div.sk-label input.sk-toggleable__control:checked~label.sk-toggleable__label {background-color: #d4ebff;}#sk-container-id-2 input.sk-hidden--visually {border: 0;clip: rect(1px 1px 1px 1px);clip: rect(1px, 1px, 1px, 1px);height: 1px;margin: -1px;overflow: hidden;padding: 0;position: absolute;width: 1px;}#sk-container-id-2 div.sk-estimator {font-family: monospace;background-color: #f0f8ff;border: 1px dotted black;border-radius: 0.25em;box-sizing: border-box;margin-bottom: 0.5em;}#sk-container-id-2 div.sk-estimator:hover {background-color: #d4ebff;}#sk-container-id-2 div.sk-parallel-item::after {content: \"\";width: 100%;border-bottom: 1px solid gray;flex-grow: 1;}#sk-container-id-2 div.sk-label:hover label.sk-toggleable__label {background-color: #d4ebff;}#sk-container-id-2 div.sk-serial::before {content: \"\";position: absolute;border-left: 1px solid gray;box-sizing: border-box;top: 0;bottom: 0;left: 50%;z-index: 0;}#sk-container-id-2 div.sk-serial {display: flex;flex-direction: column;align-items: center;background-color: white;padding-right: 0.2em;padding-left: 0.2em;position: relative;}#sk-container-id-2 div.sk-item {position: relative;z-index: 1;}#sk-container-id-2 div.sk-parallel {display: flex;align-items: stretch;justify-content: center;background-color: white;position: relative;}#sk-container-id-2 div.sk-item::before, #sk-container-id-2 div.sk-parallel-item::before {content: \"\";position: absolute;border-left: 1px solid gray;box-sizing: border-box;top: 0;bottom: 0;left: 50%;z-index: -1;}#sk-container-id-2 div.sk-parallel-item {display: flex;flex-direction: column;z-index: 1;position: relative;background-color: white;}#sk-container-id-2 div.sk-parallel-item:first-child::after {align-self: flex-end;width: 50%;}#sk-container-id-2 div.sk-parallel-item:last-child::after {align-self: flex-start;width: 50%;}#sk-container-id-2 div.sk-parallel-item:only-child::after {width: 0;}#sk-container-id-2 div.sk-dashed-wrapped {border: 1px dashed gray;margin: 0 0.4em 0.5em 0.4em;box-sizing: border-box;padding-bottom: 0.4em;background-color: white;}#sk-container-id-2 div.sk-label label {font-family: monospace;font-weight: bold;display: inline-block;line-height: 1.2em;}#sk-container-id-2 div.sk-label-container {text-align: center;}#sk-container-id-2 div.sk-container {/* jupyter's `normalize.less` sets `[hidden] { display: none; }` but bootstrap.min.css set `[hidden] { display: none !important; }` so we also need the `!important` here to be able to override the default hidden behavior on the sphinx rendered scikit-learn.org. See: https://github.com/scikit-learn/scikit-learn/issues/21755 */display: inline-block !important;position: relative;}#sk-container-id-2 div.sk-text-repr-fallback {display: none;}</style><div id=\"sk-container-id-2\" class=\"sk-top-container\"><div class=\"sk-text-repr-fallback\"><pre>RandomForestClassifier(random_state=42)</pre><b>In a Jupyter environment, please rerun this cell to show the HTML representation or trust the notebook. <br />On GitHub, the HTML representation is unable to render, please try loading this page with nbviewer.org.</b></div><div class=\"sk-container\" hidden><div class=\"sk-item\"><div class=\"sk-estimator sk-toggleable\"><input class=\"sk-toggleable__control sk-hidden--visually\" id=\"sk-estimator-id-2\" type=\"checkbox\" checked><label for=\"sk-estimator-id-2\" class=\"sk-toggleable__label sk-toggleable__label-arrow\">RandomForestClassifier</label><div class=\"sk-toggleable__content\"><pre>RandomForestClassifier(random_state=42)</pre></div></div></div></div></div>"
      ],
      "text/plain": [
       "RandomForestClassifier(random_state=42)"
      ]
     },
     "execution_count": 244,
     "metadata": {},
     "output_type": "execute_result"
    }
   ],
   "source": [
    "rf = RandomForestClassifier(n_estimators=100, random_state=42)\n",
    "rf.fit(X_train, y_train)"
   ]
  },
  {
   "cell_type": "code",
   "execution_count": 245,
   "id": "e408ba22-785b-435b-adca-3722a1372925",
   "metadata": {},
   "outputs": [],
   "source": [
    "y_pred = rf.predict(X_test)"
   ]
  },
  {
   "cell_type": "code",
   "execution_count": 246,
   "id": "b77c1a93-e69a-41b1-855e-443199aa06fd",
   "metadata": {},
   "outputs": [
    {
     "name": "stdout",
     "output_type": "stream",
     "text": [
      "Accuracy: 1.0\n",
      "Precision: 1.0\n",
      "Recall: 1.0\n",
      "F1 score: 1.0\n"
     ]
    }
   ],
   "source": [
    "accuracy = accuracy_score(y_test, y_pred)\n",
    "precision = precision_score(y_test, y_pred, average='macro')\n",
    "recall = recall_score(y_test, y_pred, average='macro')\n",
    "f1 = f1_score(y_test, y_pred, average='macro')\n",
    "\n",
    "print('Accuracy:', accuracy)\n",
    "print('Precision:', precision)\n",
    "print('Recall:', recall)\n",
    "print('F1 score:', f1)"
   ]
  },
  {
   "cell_type": "code",
   "execution_count": 247,
   "id": "eeeab1c9-133b-4e75-b5f6-a915d2cb94bf",
   "metadata": {},
   "outputs": [],
   "source": [
    "from sklearn.linear_model import LogisticRegression"
   ]
  },
  {
   "cell_type": "code",
   "execution_count": 248,
   "id": "3bf7a493-51cc-4871-987a-5620069fb3ef",
   "metadata": {},
   "outputs": [
    {
     "name": "stdout",
     "output_type": "stream",
     "text": [
      "Accuracy: 0.8553527649141923\n"
     ]
    }
   ],
   "source": [
    "clf = LogisticRegression()\n",
    "clf.fit(X_train, y_train)\n",
    "y_pred = clf.predict(X_test)\n",
    "accuracy = accuracy_score(y_test, y_pred)\n",
    "print(f'Accuracy: {accuracy}')"
   ]
  },
  {
   "cell_type": "code",
   "execution_count": 249,
   "id": "0b8b466f-79fb-42a0-99a6-2db8f2a1002b",
   "metadata": {},
   "outputs": [
    {
     "name": "stdout",
     "output_type": "stream",
     "text": [
      "Precision: 1.0\n",
      "Recall: 1.0\n"
     ]
    }
   ],
   "source": [
    "print(\"Precision:\", precision)\n",
    "print(\"Recall:\", recall)"
   ]
  },
  {
   "cell_type": "code",
   "execution_count": 124,
   "id": "84ec6475-3ea0-44a8-8c01-03f70bd1b334",
   "metadata": {},
   "outputs": [],
   "source": [
    "from sklearn.naive_bayes import GaussianNB\n",
    "nb = GaussianNB()\n",
    "nb.fit(X_train, y_train)\n",
    "y_pred = nb.predict(X_test)"
   ]
  },
  {
   "cell_type": "code",
   "execution_count": 125,
   "id": "bfd54400-302e-4c09-a4fc-751924c7cb95",
   "metadata": {},
   "outputs": [
    {
     "ename": "ValueError",
     "evalue": "pos_label=1 is not a valid label. It should be one of ['5G', 'LTE']",
     "output_type": "error",
     "traceback": [
      "\u001b[0;31m---------------------------------------------------------------------------\u001b[0m",
      "\u001b[0;31mValueError\u001b[0m                                Traceback (most recent call last)",
      "\u001b[0;32m/var/folders/gx/z5b72n0j6x1cdv0w7h9q88bm0000gn/T/ipykernel_811/723614574.py\u001b[0m in \u001b[0;36m<module>\u001b[0;34m\u001b[0m\n\u001b[1;32m      1\u001b[0m \u001b[0;31m# Calculate accuracy, precision, and recall\u001b[0m\u001b[0;34m\u001b[0m\u001b[0;34m\u001b[0m\u001b[0m\n\u001b[1;32m      2\u001b[0m \u001b[0maccuracy\u001b[0m \u001b[0;34m=\u001b[0m \u001b[0maccuracy_score\u001b[0m\u001b[0;34m(\u001b[0m\u001b[0my_test\u001b[0m\u001b[0;34m,\u001b[0m \u001b[0my_pred\u001b[0m\u001b[0;34m)\u001b[0m\u001b[0;34m\u001b[0m\u001b[0;34m\u001b[0m\u001b[0m\n\u001b[0;32m----> 3\u001b[0;31m \u001b[0mprecision\u001b[0m \u001b[0;34m=\u001b[0m \u001b[0mprecision_score\u001b[0m\u001b[0;34m(\u001b[0m\u001b[0my_test\u001b[0m\u001b[0;34m,\u001b[0m \u001b[0my_pred\u001b[0m\u001b[0;34m)\u001b[0m\u001b[0;34m\u001b[0m\u001b[0;34m\u001b[0m\u001b[0m\n\u001b[0m\u001b[1;32m      4\u001b[0m \u001b[0mrecall\u001b[0m \u001b[0;34m=\u001b[0m \u001b[0mrecall_score\u001b[0m\u001b[0;34m(\u001b[0m\u001b[0my_test\u001b[0m\u001b[0;34m,\u001b[0m \u001b[0my_pred\u001b[0m\u001b[0;34m)\u001b[0m\u001b[0;34m\u001b[0m\u001b[0;34m\u001b[0m\u001b[0m\n\u001b[1;32m      5\u001b[0m \u001b[0;34m\u001b[0m\u001b[0m\n",
      "\u001b[0;32m~/opt/anaconda3/lib/python3.9/site-packages/sklearn/metrics/_classification.py\u001b[0m in \u001b[0;36mprecision_score\u001b[0;34m(y_true, y_pred, labels, pos_label, average, sample_weight, zero_division)\u001b[0m\n\u001b[1;32m   1774\u001b[0m     \u001b[0marray\u001b[0m\u001b[0;34m(\u001b[0m\u001b[0;34m[\u001b[0m\u001b[0;36m0.5\u001b[0m\u001b[0;34m,\u001b[0m \u001b[0;36m1.\u001b[0m \u001b[0;34m,\u001b[0m \u001b[0;36m1.\u001b[0m \u001b[0;34m]\u001b[0m\u001b[0;34m)\u001b[0m\u001b[0;34m\u001b[0m\u001b[0;34m\u001b[0m\u001b[0m\n\u001b[1;32m   1775\u001b[0m     \"\"\"\n\u001b[0;32m-> 1776\u001b[0;31m     p, _, _, _ = precision_recall_fscore_support(\n\u001b[0m\u001b[1;32m   1777\u001b[0m         \u001b[0my_true\u001b[0m\u001b[0;34m,\u001b[0m\u001b[0;34m\u001b[0m\u001b[0;34m\u001b[0m\u001b[0m\n\u001b[1;32m   1778\u001b[0m         \u001b[0my_pred\u001b[0m\u001b[0;34m,\u001b[0m\u001b[0;34m\u001b[0m\u001b[0;34m\u001b[0m\u001b[0m\n",
      "\u001b[0;32m~/opt/anaconda3/lib/python3.9/site-packages/sklearn/metrics/_classification.py\u001b[0m in \u001b[0;36mprecision_recall_fscore_support\u001b[0;34m(y_true, y_pred, beta, labels, pos_label, average, warn_for, sample_weight, zero_division)\u001b[0m\n\u001b[1;32m   1561\u001b[0m     \u001b[0;32mif\u001b[0m \u001b[0mbeta\u001b[0m \u001b[0;34m<\u001b[0m \u001b[0;36m0\u001b[0m\u001b[0;34m:\u001b[0m\u001b[0;34m\u001b[0m\u001b[0;34m\u001b[0m\u001b[0m\n\u001b[1;32m   1562\u001b[0m         \u001b[0;32mraise\u001b[0m \u001b[0mValueError\u001b[0m\u001b[0;34m(\u001b[0m\u001b[0;34m\"beta should be >=0 in the F-beta score\"\u001b[0m\u001b[0;34m)\u001b[0m\u001b[0;34m\u001b[0m\u001b[0;34m\u001b[0m\u001b[0m\n\u001b[0;32m-> 1563\u001b[0;31m     \u001b[0mlabels\u001b[0m \u001b[0;34m=\u001b[0m \u001b[0m_check_set_wise_labels\u001b[0m\u001b[0;34m(\u001b[0m\u001b[0my_true\u001b[0m\u001b[0;34m,\u001b[0m \u001b[0my_pred\u001b[0m\u001b[0;34m,\u001b[0m \u001b[0maverage\u001b[0m\u001b[0;34m,\u001b[0m \u001b[0mlabels\u001b[0m\u001b[0;34m,\u001b[0m \u001b[0mpos_label\u001b[0m\u001b[0;34m)\u001b[0m\u001b[0;34m\u001b[0m\u001b[0;34m\u001b[0m\u001b[0m\n\u001b[0m\u001b[1;32m   1564\u001b[0m \u001b[0;34m\u001b[0m\u001b[0m\n\u001b[1;32m   1565\u001b[0m     \u001b[0;31m# Calculate tp_sum, pred_sum, true_sum ###\u001b[0m\u001b[0;34m\u001b[0m\u001b[0;34m\u001b[0m\u001b[0m\n",
      "\u001b[0;32m~/opt/anaconda3/lib/python3.9/site-packages/sklearn/metrics/_classification.py\u001b[0m in \u001b[0;36m_check_set_wise_labels\u001b[0;34m(y_true, y_pred, average, labels, pos_label)\u001b[0m\n\u001b[1;32m   1370\u001b[0m             \u001b[0;32mif\u001b[0m \u001b[0mpos_label\u001b[0m \u001b[0;32mnot\u001b[0m \u001b[0;32min\u001b[0m \u001b[0mpresent_labels\u001b[0m\u001b[0;34m:\u001b[0m\u001b[0;34m\u001b[0m\u001b[0;34m\u001b[0m\u001b[0m\n\u001b[1;32m   1371\u001b[0m                 \u001b[0;32mif\u001b[0m \u001b[0mlen\u001b[0m\u001b[0;34m(\u001b[0m\u001b[0mpresent_labels\u001b[0m\u001b[0;34m)\u001b[0m \u001b[0;34m>=\u001b[0m \u001b[0;36m2\u001b[0m\u001b[0;34m:\u001b[0m\u001b[0;34m\u001b[0m\u001b[0;34m\u001b[0m\u001b[0m\n\u001b[0;32m-> 1372\u001b[0;31m                     raise ValueError(\n\u001b[0m\u001b[1;32m   1373\u001b[0m                         \u001b[0;34mf\"pos_label={pos_label} is not a valid label. It \"\u001b[0m\u001b[0;34m\u001b[0m\u001b[0;34m\u001b[0m\u001b[0m\n\u001b[1;32m   1374\u001b[0m                         \u001b[0;34mf\"should be one of {present_labels}\"\u001b[0m\u001b[0;34m\u001b[0m\u001b[0;34m\u001b[0m\u001b[0m\n",
      "\u001b[0;31mValueError\u001b[0m: pos_label=1 is not a valid label. It should be one of ['5G', 'LTE']"
     ]
    }
   ],
   "source": [
    "# Calculate accuracy, precision, and recall\n",
    "accuracy = accuracy_score(y_test, y_pred)\n",
    "precision = precision_score(y_test, y_pred)\n",
    "recall = recall_score(y_test, y_pred)\n",
    "\n",
    "# Print the results\n",
    "print('Accuracy:', accuracy)\n",
    "print('Precision:', precision)\n",
    "print('Recall:', recall)"
   ]
  },
  {
   "cell_type": "code",
   "execution_count": 138,
   "id": "c266691c-f362-44f3-95bc-061140137f65",
   "metadata": {},
   "outputs": [
    {
     "ename": "TypeError",
     "evalue": "can't multiply sequence by non-int of type 'float'",
     "output_type": "error",
     "traceback": [
      "\u001b[0;31m---------------------------------------------------------------------------\u001b[0m",
      "\u001b[0;31mTypeError\u001b[0m                                 Traceback (most recent call last)",
      "\u001b[0;32m/var/folders/gx/z5b72n0j6x1cdv0w7h9q88bm0000gn/T/ipykernel_35427/3933230913.py\u001b[0m in \u001b[0;36m<module>\u001b[0;34m\u001b[0m\n\u001b[1;32m      5\u001b[0m \u001b[0;32mfor\u001b[0m \u001b[0mi\u001b[0m \u001b[0;32min\u001b[0m \u001b[0mrange\u001b[0m\u001b[0;34m(\u001b[0m\u001b[0mn\u001b[0m\u001b[0;34m)\u001b[0m\u001b[0;34m:\u001b[0m\u001b[0;34m\u001b[0m\u001b[0;34m\u001b[0m\u001b[0m\n\u001b[1;32m      6\u001b[0m     \u001b[0mcost_gradient\u001b[0m\u001b[0;34m=\u001b[0m\u001b[0mnp\u001b[0m\u001b[0;34m.\u001b[0m\u001b[0mzeros\u001b[0m\u001b[0;34m(\u001b[0m\u001b[0mk\u001b[0m\u001b[0;34m)\u001b[0m\u001b[0;34m\u001b[0m\u001b[0;34m\u001b[0m\u001b[0m\n\u001b[0;32m----> 7\u001b[0;31m     \u001b[0mz\u001b[0m\u001b[0;34m=\u001b[0m\u001b[0mX_train\u001b[0m\u001b[0;34m.\u001b[0m\u001b[0mdot\u001b[0m\u001b[0;34m(\u001b[0m\u001b[0mbeta\u001b[0m\u001b[0;34m)\u001b[0m\u001b[0;34m\u001b[0m\u001b[0;34m\u001b[0m\u001b[0m\n\u001b[0m\u001b[1;32m      8\u001b[0m     \u001b[0mpredicted\u001b[0m\u001b[0;34m=\u001b[0m\u001b[0;36m1\u001b[0m\u001b[0;34m/\u001b[0m\u001b[0;34m(\u001b[0m\u001b[0;36m1\u001b[0m\u001b[0;34m+\u001b[0m\u001b[0mnp\u001b[0m\u001b[0;34m.\u001b[0m\u001b[0mexp\u001b[0m\u001b[0;34m(\u001b[0m\u001b[0;34m-\u001b[0m\u001b[0mz\u001b[0m\u001b[0;34m)\u001b[0m\u001b[0;34m)\u001b[0m\u001b[0;34m\u001b[0m\u001b[0;34m\u001b[0m\u001b[0m\n\u001b[1;32m      9\u001b[0m     \u001b[0mdifference\u001b[0m\u001b[0;34m=\u001b[0m\u001b[0mpredicted\u001b[0m\u001b[0;34m-\u001b[0m\u001b[0mY_train\u001b[0m\u001b[0;34m\u001b[0m\u001b[0;34m\u001b[0m\u001b[0m\n",
      "\u001b[0;32m~/opt/anaconda3/lib/python3.9/site-packages/pandas/core/frame.py\u001b[0m in \u001b[0;36mdot\u001b[0;34m(self, other)\u001b[0m\n\u001b[1;32m   1264\u001b[0m             \u001b[0;32mreturn\u001b[0m \u001b[0mself\u001b[0m\u001b[0;34m.\u001b[0m\u001b[0m_constructor_sliced\u001b[0m\u001b[0;34m(\u001b[0m\u001b[0mnp\u001b[0m\u001b[0;34m.\u001b[0m\u001b[0mdot\u001b[0m\u001b[0;34m(\u001b[0m\u001b[0mlvals\u001b[0m\u001b[0;34m,\u001b[0m \u001b[0mrvals\u001b[0m\u001b[0;34m)\u001b[0m\u001b[0;34m,\u001b[0m \u001b[0mindex\u001b[0m\u001b[0;34m=\u001b[0m\u001b[0mleft\u001b[0m\u001b[0;34m.\u001b[0m\u001b[0mindex\u001b[0m\u001b[0;34m)\u001b[0m\u001b[0;34m\u001b[0m\u001b[0;34m\u001b[0m\u001b[0m\n\u001b[1;32m   1265\u001b[0m         \u001b[0;32melif\u001b[0m \u001b[0misinstance\u001b[0m\u001b[0;34m(\u001b[0m\u001b[0mrvals\u001b[0m\u001b[0;34m,\u001b[0m \u001b[0;34m(\u001b[0m\u001b[0mnp\u001b[0m\u001b[0;34m.\u001b[0m\u001b[0mndarray\u001b[0m\u001b[0;34m,\u001b[0m \u001b[0mIndex\u001b[0m\u001b[0;34m)\u001b[0m\u001b[0;34m)\u001b[0m\u001b[0;34m:\u001b[0m\u001b[0;34m\u001b[0m\u001b[0;34m\u001b[0m\u001b[0m\n\u001b[0;32m-> 1266\u001b[0;31m             \u001b[0mresult\u001b[0m \u001b[0;34m=\u001b[0m \u001b[0mnp\u001b[0m\u001b[0;34m.\u001b[0m\u001b[0mdot\u001b[0m\u001b[0;34m(\u001b[0m\u001b[0mlvals\u001b[0m\u001b[0;34m,\u001b[0m \u001b[0mrvals\u001b[0m\u001b[0;34m)\u001b[0m\u001b[0;34m\u001b[0m\u001b[0;34m\u001b[0m\u001b[0m\n\u001b[0m\u001b[1;32m   1267\u001b[0m             \u001b[0;32mif\u001b[0m \u001b[0mresult\u001b[0m\u001b[0;34m.\u001b[0m\u001b[0mndim\u001b[0m \u001b[0;34m==\u001b[0m \u001b[0;36m2\u001b[0m\u001b[0;34m:\u001b[0m\u001b[0;34m\u001b[0m\u001b[0;34m\u001b[0m\u001b[0m\n\u001b[1;32m   1268\u001b[0m                 \u001b[0;32mreturn\u001b[0m \u001b[0mself\u001b[0m\u001b[0;34m.\u001b[0m\u001b[0m_constructor\u001b[0m\u001b[0;34m(\u001b[0m\u001b[0mresult\u001b[0m\u001b[0;34m,\u001b[0m \u001b[0mindex\u001b[0m\u001b[0;34m=\u001b[0m\u001b[0mleft\u001b[0m\u001b[0;34m.\u001b[0m\u001b[0mindex\u001b[0m\u001b[0;34m)\u001b[0m\u001b[0;34m\u001b[0m\u001b[0;34m\u001b[0m\u001b[0m\n",
      "\u001b[0;32m~/opt/anaconda3/lib/python3.9/site-packages/numpy/core/overrides.py\u001b[0m in \u001b[0;36mdot\u001b[0;34m(*args, **kwargs)\u001b[0m\n",
      "\u001b[0;31mTypeError\u001b[0m: can't multiply sequence by non-int of type 'float'"
     ]
    }
   ],
   "source": [
    "n=1000 #number of iterations\n",
    "alpha=0.01\n",
    "m,k=X_train.shape\n",
    "beta=np.zeros(k)\n",
    "for i in range(n):\n",
    "    cost_gradient=np.zeros(k)\n",
    "    z=X_train.dot(beta)\n",
    "    predicted=1/(1+np.exp(-z))\n",
    "    difference=predicted-Y_train\n",
    "    for j in range(k):\n",
    "        cost_gradient[j]=np.sum(difference.dot(X_train[:,j]))\n",
    "        for j in range(k):\n",
    "            beta[j]=beta[j]-(alpha/m)*cost_gradient[j]\n",
    "            print(beta)"
   ]
  },
  {
   "cell_type": "code",
   "execution_count": null,
   "id": "22a59692-8ea7-46d6-8a0b-d84533cb0b0a",
   "metadata": {},
   "outputs": [],
   "source": []
  }
 ],
 "metadata": {
  "kernelspec": {
   "display_name": "Python 3 (ipykernel)",
   "language": "python",
   "name": "python3"
  },
  "language_info": {
   "codemirror_mode": {
    "name": "ipython",
    "version": 3
   },
   "file_extension": ".py",
   "mimetype": "text/x-python",
   "name": "python",
   "nbconvert_exporter": "python",
   "pygments_lexer": "ipython3",
   "version": "3.9.7"
  }
 },
 "nbformat": 4,
 "nbformat_minor": 5
}
